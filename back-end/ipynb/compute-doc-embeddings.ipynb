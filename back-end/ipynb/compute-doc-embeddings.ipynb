{
 "cells": [
  {
   "cell_type": "code",
   "execution_count": 1,
   "id": "e4dd2b54-8f88-44b6-bdbf-8a6afa4e927d",
   "metadata": {},
   "outputs": [
    {
     "name": "stderr",
     "output_type": "stream",
     "text": [
      "/opt/anaconda3/envs/work/lib/python3.11/site-packages/tqdm/auto.py:21: TqdmWarning: IProgress not found. Please update jupyter and ipywidgets. See https://ipywidgets.readthedocs.io/en/stable/user_install.html\n",
      "  from .autonotebook import tqdm as notebook_tqdm\n"
     ]
    }
   ],
   "source": [
    "from sentence_transformers import SentenceTransformer\n",
    "from sentence_transformers.util import cos_sim\n",
    "\n",
    "import faiss\n",
    "import numpy as np\n",
    "\n",
    "import sqlite3"
   ]
  },
  {
   "cell_type": "code",
   "execution_count": null,
   "id": "77e8dec0-e96d-4bc0-a80c-5cfd270f07df",
   "metadata": {},
   "outputs": [],
   "source": [
    "class UNDocumentEncoder: \n",
    "    def __init__(\n",
    "        self,\n",
    "        hf_endpoint, # jinaai/jina-embeddings-v2-base-en, all-MiniLM-L6-v2\n",
    "        max_seq_length,\n",
    "    )\n",
    "    if 'jinaai' in hf_endpoint:\n",
    "        self.encoder = SentenceTransformer(hf_endpoint, trust_remote_code=True)\n",
    "   \n",
    "    self.encoder = SentenceTransformer(hf_endpoint)\n",
    "    self.max_seq_length = max_seq_length\n",
    "    self.faiss_index = faiss.IndexFlatL2()\n",
    "\n",
    "    def assemble_doc_texts(self, parsed_doc_path):\n",
    "        with open(parsed_doc_path, 'r') as f:\n",
    "    \n",
    " \n",
    "    def compute_doc_embedding(self):\n",
    "        doc_embedding = self.encoder.encode(doc_texts, convert_to_numpy=True)\n",
    "        return doc_embedding\n",
    "\n",
    "    def save_doc_embedding(self, doc_embedding):\n",
    "        self.faiss_index.add(doc_embedding)"
   ]
  },
  {
   "cell_type": "code",
   "execution_count": null,
   "id": "2af83717-b00d-46a1-b53a-022676c5fcba",
   "metadata": {},
   "outputs": [],
   "source": []
  },
  {
   "cell_type": "code",
   "execution_count": null,
   "id": "57ee71f3-508f-490a-8296-606013fd7de2",
   "metadata": {},
   "outputs": [],
   "source": []
  }
 ],
 "metadata": {
  "kernelspec": {
   "display_name": "Python [conda env:work]",
   "language": "python",
   "name": "conda-env-work-py"
  },
  "language_info": {
   "codemirror_mode": {
    "name": "ipython",
    "version": 3
   },
   "file_extension": ".py",
   "mimetype": "text/x-python",
   "name": "python",
   "nbconvert_exporter": "python",
   "pygments_lexer": "ipython3",
   "version": "3.11.11"
  }
 },
 "nbformat": 4,
 "nbformat_minor": 5
}
